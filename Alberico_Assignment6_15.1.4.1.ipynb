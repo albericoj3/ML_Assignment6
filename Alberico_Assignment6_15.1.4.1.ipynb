{
  "nbformat": 4,
  "nbformat_minor": 0,
  "metadata": {
    "kernelspec": {
      "display_name": "Python 3",
      "name": "python3"
    },
    "language_info": {
      "name": "python"
    },
    "colab": {
      "name": "sentiment-analysis-and-dataset.ipynb",
      "provenance": []
    }
  },
  "cells": [
    {
      "cell_type": "markdown",
      "metadata": {
        "id": "BLGZ7aW-lP7J"
      },
      "source": [
        "The following additional libraries are needed to run this\n",
        "notebook. Note that running on Colab is experimental, please report a Github\n",
        "issue if you have any problem."
      ]
    },
    {
      "cell_type": "code",
      "metadata": {
        "id": "Suj-V57zlP7J"
      },
      "source": [
        "!pip install d2l==0.15.1\n",
        "!pip install -U mxnet-cu101==1.7.0\n"
      ],
      "execution_count": null,
      "outputs": []
    },
    {
      "cell_type": "markdown",
      "metadata": {
        "origin_pos": 0,
        "id": "zMTgYj_2lP7J"
      },
      "source": [
        "# Sentiment Analysis and the Dataset\n",
        ":label:`sec_sentiment`\n",
        "\n",
        "Text classification is a common task in natural language processing, which transforms a sequence of text of indefinite length into a category of text. It is similar to the image classification, the most frequently used application in this book, e.g., :numref:`sec_naive_bayes`. The only difference is that, rather than an image, text classification's example is a text sentence.\n",
        "\n",
        "This section will focus on loading data for one of the sub-questions in this field: using text sentiment classification to analyze the emotions of the text's author. This problem is also called sentiment analysis and has a wide range of applications. For example, we can analyze user reviews of products to obtain user satisfaction statistics, or analyze user sentiments about market conditions and use it to predict future trends.\n"
      ]
    },
    {
      "cell_type": "code",
      "metadata": {
        "attributes": {
          "classes": [],
          "id": "",
          "n": "1"
        },
        "origin_pos": 1,
        "tab": [
          "mxnet"
        ],
        "id": "Kzz-AbwGlP7J"
      },
      "source": [
        "from d2l import mxnet as d2l\n",
        "from mxnet import gluon, np, npx\n",
        "import os\n",
        "npx.set_np()"
      ],
      "execution_count": null,
      "outputs": []
    },
    {
      "cell_type": "markdown",
      "metadata": {
        "origin_pos": 2,
        "id": "kbnvhZtRlP7J"
      },
      "source": [
        "## The Sentiment Analysis Dataset\n",
        "\n",
        "We use Stanford's [Large Movie Review Dataset](https://ai.stanford.edu/~amaas/data/sentiment/) as the dataset for sentiment analysis. This dataset is divided into two datasets for training and testing purposes, each containing 25,000 movie reviews downloaded from IMDb. In each dataset, the number of comments labeled as \"positive\" and \"negative\" is equal.\n",
        "\n",
        "###  Reading the Dataset\n",
        "\n",
        "We first download this dataset to the \"../data\" path and extract it to \"../data/aclImdb\".\n"
      ]
    },
    {
      "cell_type": "code",
      "metadata": {
        "attributes": {
          "classes": [],
          "id": "",
          "n": "2"
        },
        "origin_pos": 3,
        "tab": [
          "mxnet"
        ],
        "id": "Ro3U337blP7J"
      },
      "source": [
        "#@save\n",
        "d2l.DATA_HUB['aclImdb'] = (\n",
        "    'http://ai.stanford.edu/~amaas/data/sentiment/aclImdb_v1.tar.gz',\n",
        "    '01ada507287d82875905620988597833ad4e0903')\n",
        "\n",
        "data_dir = d2l.download_extract('aclImdb', 'aclImdb')"
      ],
      "execution_count": null,
      "outputs": []
    },
    {
      "cell_type": "markdown",
      "metadata": {
        "origin_pos": 4,
        "id": "j3nzI3prlP7J"
      },
      "source": [
        "Next, read the training and test datasets. Each example is a review and its corresponding label: 1 indicates \"positive\" and 0 indicates \"negative\".\n"
      ]
    },
    {
      "cell_type": "code",
      "metadata": {
        "attributes": {
          "classes": [],
          "id": "",
          "n": "3"
        },
        "origin_pos": 5,
        "tab": [
          "mxnet"
        ],
        "id": "djNe0l9tlP7J",
        "outputId": "277bbe42-5c06-4327-9488-e64f17aa48bf"
      },
      "source": [
        "#@save\n",
        "def read_imdb(data_dir, is_train):\n",
        "    data, labels = [], []\n",
        "    for label in ('pos', 'neg'):\n",
        "        folder_name = os.path.join(data_dir, 'train' if is_train else 'test',\n",
        "                                   label)\n",
        "        for file in os.listdir(folder_name):\n",
        "            with open(os.path.join(folder_name, file), 'rb') as f:\n",
        "                review = f.read().decode('utf-8').replace('\\n', '')\n",
        "                data.append(review)\n",
        "                labels.append(1 if label == 'pos' else 0)\n",
        "    return data, labels\n",
        "\n",
        "train_data = read_imdb(data_dir, is_train=True)\n",
        "print('# trainings:', len(train_data[0]))\n",
        "for x, y in zip(train_data[0][:3], train_data[1][:3]):\n",
        "    print('label:', y, 'review:', x[0:60])"
      ],
      "execution_count": null,
      "outputs": [
        {
          "output_type": "stream",
          "text": [
            "# trainings: 25000\n",
            "label: 1 review: Normally the best way to annoy me in a film is to include so\n",
            "label: 1 review: The Bible teaches us that the love of money is the root of a\n",
            "label: 1 review: Being someone who lists Night of the Living Dead at number t\n"
          ],
          "name": "stdout"
        }
      ]
    },
    {
      "cell_type": "markdown",
      "metadata": {
        "origin_pos": 6,
        "id": "g15c4J3SlP7K"
      },
      "source": [
        "### Tokenization and Vocabulary\n",
        "\n",
        "We use a word as a token, and then create a dictionary based on the training dataset.\n"
      ]
    },
    {
      "cell_type": "code",
      "metadata": {
        "attributes": {
          "classes": [],
          "id": "",
          "n": "4"
        },
        "origin_pos": 7,
        "tab": [
          "mxnet"
        ],
        "id": "zE_jm57ClP7K",
        "outputId": "9a930c40-e7cc-447a-dc3b-15acd2d10171"
      },
      "source": [
        "train_tokens = d2l.tokenize(train_data[0], token='word')\n",
        "vocab = d2l.Vocab(train_tokens, min_freq=5, reserved_tokens=['<pad>'])\n",
        "\n",
        "d2l.set_figsize()\n",
        "d2l.plt.hist([len(line) for line in train_tokens], bins=range(0, 1000, 50));"
      ],
      "execution_count": null,
      "outputs": [
        {
          "output_type": "display_data",
          "data": {
            "image/svg+xml": "<?xml version=\"1.0\" encoding=\"utf-8\" standalone=\"no\"?>\n<!DOCTYPE svg PUBLIC \"-//W3C//DTD SVG 1.1//EN\"\n  \"http://www.w3.org/Graphics/SVG/1.1/DTD/svg11.dtd\">\n<!-- Created with matplotlib (https://matplotlib.org/) -->\n<svg height=\"166.978125pt\" version=\"1.1\" viewBox=\"0 0 242.15 166.978125\" width=\"242.15pt\" xmlns=\"http://www.w3.org/2000/svg\" xmlns:xlink=\"http://www.w3.org/1999/xlink\">\n <defs>\n  <style type=\"text/css\">\n*{stroke-linecap:butt;stroke-linejoin:round;}\n  </style>\n </defs>\n <g id=\"figure_1\">\n  <g id=\"patch_1\">\n   <path d=\"M 0 166.978125 \nL 242.15 166.978125 \nL 242.15 0 \nL 0 0 \nz\n\" style=\"fill:none;\"/>\n  </g>\n  <g id=\"axes_1\">\n   <g id=\"patch_2\">\n    <path d=\"M 39.65 143.1 \nL 234.95 143.1 \nL 234.95 7.2 \nL 39.65 7.2 \nz\n\" style=\"fill:#ffffff;\"/>\n   </g>\n   <g id=\"patch_3\">\n    <path clip-path=\"url(#p1de2f2b09e)\" d=\"M 48.527273 143.1 \nL 57.87177 143.1 \nL 57.87177 132.605279 \nL 48.527273 132.605279 \nz\n\" style=\"fill:#1f77b4;\"/>\n   </g>\n   <g id=\"patch_4\">\n    <path clip-path=\"url(#p1de2f2b09e)\" d=\"M 57.87177 143.1 \nL 67.216268 143.1 \nL 67.216268 98.065689 \nL 57.87177 98.065689 \nz\n\" style=\"fill:#1f77b4;\"/>\n   </g>\n   <g id=\"patch_5\">\n    <path clip-path=\"url(#p1de2f2b09e)\" d=\"M 67.216268 143.1 \nL 76.560766 143.1 \nL 76.560766 13.671429 \nL 67.216268 13.671429 \nz\n\" style=\"fill:#1f77b4;\"/>\n   </g>\n   <g id=\"patch_6\">\n    <path clip-path=\"url(#p1de2f2b09e)\" d=\"M 76.560766 143.1 \nL 85.905263 143.1 \nL 85.905263 51.361332 \nL 76.560766 51.361332 \nz\n\" style=\"fill:#1f77b4;\"/>\n   </g>\n   <g id=\"patch_7\">\n    <path clip-path=\"url(#p1de2f2b09e)\" d=\"M 85.905263 143.1 \nL 95.249761 143.1 \nL 95.249761 89.639548 \nL 85.905263 89.639548 \nz\n\" style=\"fill:#1f77b4;\"/>\n   </g>\n   <g id=\"patch_8\">\n    <path clip-path=\"url(#p1de2f2b09e)\" d=\"M 95.249761 143.1 \nL 104.594258 143.1 \nL 104.594258 108.029032 \nL 95.249761 108.029032 \nz\n\" style=\"fill:#1f77b4;\"/>\n   </g>\n   <g id=\"patch_9\">\n    <path clip-path=\"url(#p1de2f2b09e)\" d=\"M 104.594258 143.1 \nL 113.938756 143.1 \nL 113.938756 116.910641 \nL 104.594258 116.910641 \nz\n\" style=\"fill:#1f77b4;\"/>\n   </g>\n   <g id=\"patch_10\">\n    <path clip-path=\"url(#p1de2f2b09e)\" d=\"M 113.938756 143.1 \nL 123.283254 143.1 \nL 123.283254 124.027315 \nL 113.938756 124.027315 \nz\n\" style=\"fill:#1f77b4;\"/>\n   </g>\n   <g id=\"patch_11\">\n    <path clip-path=\"url(#p1de2f2b09e)\" d=\"M 123.283254 143.1 \nL 132.627751 143.1 \nL 132.627751 128.695853 \nL 123.283254 128.695853 \nz\n\" style=\"fill:#1f77b4;\"/>\n   </g>\n   <g id=\"patch_12\">\n    <path clip-path=\"url(#p1de2f2b09e)\" d=\"M 132.627751 143.1 \nL 141.972249 143.1 \nL 141.972249 132.0739 \nL 132.627751 132.0739 \nz\n\" style=\"fill:#1f77b4;\"/>\n   </g>\n   <g id=\"patch_13\">\n    <path clip-path=\"url(#p1de2f2b09e)\" d=\"M 141.972249 143.1 \nL 151.316746 143.1 \nL 151.316746 134.806703 \nL 141.972249 134.806703 \nz\n\" style=\"fill:#1f77b4;\"/>\n   </g>\n   <g id=\"patch_14\">\n    <path clip-path=\"url(#p1de2f2b09e)\" d=\"M 151.316746 143.1 \nL 160.661244 143.1 \nL 160.661244 136.476749 \nL 151.316746 136.476749 \nz\n\" style=\"fill:#1f77b4;\"/>\n   </g>\n   <g id=\"patch_15\">\n    <path clip-path=\"url(#p1de2f2b09e)\" d=\"M 160.661244 143.1 \nL 170.005742 143.1 \nL 170.005742 138.222706 \nL 160.661244 138.222706 \nz\n\" style=\"fill:#1f77b4;\"/>\n   </g>\n   <g id=\"patch_16\">\n    <path clip-path=\"url(#p1de2f2b09e)\" d=\"M 170.005742 143.1 \nL 179.350239 143.1 \nL 179.350239 139.171596 \nL 170.005742 139.171596 \nz\n\" style=\"fill:#1f77b4;\"/>\n   </g>\n   <g id=\"patch_17\">\n    <path clip-path=\"url(#p1de2f2b09e)\" d=\"M 179.350239 143.1 \nL 188.694737 143.1 \nL 188.694737 139.797863 \nL 179.350239 139.797863 \nz\n\" style=\"fill:#1f77b4;\"/>\n   </g>\n   <g id=\"patch_18\">\n    <path clip-path=\"url(#p1de2f2b09e)\" d=\"M 188.694737 143.1 \nL 198.039234 143.1 \nL 198.039234 140.575953 \nL 188.694737 140.575953 \nz\n\" style=\"fill:#1f77b4;\"/>\n   </g>\n   <g id=\"patch_19\">\n    <path clip-path=\"url(#p1de2f2b09e)\" d=\"M 198.039234 143.1 \nL 207.383732 143.1 \nL 207.383732 140.898576 \nL 198.039234 140.898576 \nz\n\" style=\"fill:#1f77b4;\"/>\n   </g>\n   <g id=\"patch_20\">\n    <path clip-path=\"url(#p1de2f2b09e)\" d=\"M 207.383732 143.1 \nL 216.72823 143.1 \nL 216.72823 141.486887 \nL 207.383732 141.486887 \nz\n\" style=\"fill:#1f77b4;\"/>\n   </g>\n   <g id=\"patch_21\">\n    <path clip-path=\"url(#p1de2f2b09e)\" d=\"M 216.72823 143.1 \nL 226.072727 143.1 \nL 226.072727 141.676665 \nL 216.72823 141.676665 \nz\n\" style=\"fill:#1f77b4;\"/>\n   </g>\n   <g id=\"matplotlib.axis_1\">\n    <g id=\"xtick_1\">\n     <g id=\"line2d_1\">\n      <defs>\n       <path d=\"M 0 0 \nL 0 3.5 \n\" id=\"m4deb7d2374\" style=\"stroke:#000000;stroke-width:0.8;\"/>\n      </defs>\n      <g>\n       <use style=\"stroke:#000000;stroke-width:0.8;\" x=\"48.527273\" xlink:href=\"#m4deb7d2374\" y=\"143.1\"/>\n      </g>\n     </g>\n     <g id=\"text_1\">\n      <!-- 0 -->\n      <defs>\n       <path d=\"M 31.78125 66.40625 \nQ 24.171875 66.40625 20.328125 58.90625 \nQ 16.5 51.421875 16.5 36.375 \nQ 16.5 21.390625 20.328125 13.890625 \nQ 24.171875 6.390625 31.78125 6.390625 \nQ 39.453125 6.390625 43.28125 13.890625 \nQ 47.125 21.390625 47.125 36.375 \nQ 47.125 51.421875 43.28125 58.90625 \nQ 39.453125 66.40625 31.78125 66.40625 \nz\nM 31.78125 74.21875 \nQ 44.046875 74.21875 50.515625 64.515625 \nQ 56.984375 54.828125 56.984375 36.375 \nQ 56.984375 17.96875 50.515625 8.265625 \nQ 44.046875 -1.421875 31.78125 -1.421875 \nQ 19.53125 -1.421875 13.0625 8.265625 \nQ 6.59375 17.96875 6.59375 36.375 \nQ 6.59375 54.828125 13.0625 64.515625 \nQ 19.53125 74.21875 31.78125 74.21875 \nz\n\" id=\"DejaVuSans-48\"/>\n      </defs>\n      <g transform=\"translate(45.346023 157.698438)scale(0.1 -0.1)\">\n       <use xlink:href=\"#DejaVuSans-48\"/>\n      </g>\n     </g>\n    </g>\n    <g id=\"xtick_2\">\n     <g id=\"line2d_2\">\n      <g>\n       <use style=\"stroke:#000000;stroke-width:0.8;\" x=\"85.905263\" xlink:href=\"#m4deb7d2374\" y=\"143.1\"/>\n      </g>\n     </g>\n     <g id=\"text_2\">\n      <!-- 200 -->\n      <defs>\n       <path d=\"M 19.1875 8.296875 \nL 53.609375 8.296875 \nL 53.609375 0 \nL 7.328125 0 \nL 7.328125 8.296875 \nQ 12.9375 14.109375 22.625 23.890625 \nQ 32.328125 33.6875 34.8125 36.53125 \nQ 39.546875 41.84375 41.421875 45.53125 \nQ 43.3125 49.21875 43.3125 52.78125 \nQ 43.3125 58.59375 39.234375 62.25 \nQ 35.15625 65.921875 28.609375 65.921875 \nQ 23.96875 65.921875 18.8125 64.3125 \nQ 13.671875 62.703125 7.8125 59.421875 \nL 7.8125 69.390625 \nQ 13.765625 71.78125 18.9375 73 \nQ 24.125 74.21875 28.421875 74.21875 \nQ 39.75 74.21875 46.484375 68.546875 \nQ 53.21875 62.890625 53.21875 53.421875 \nQ 53.21875 48.921875 51.53125 44.890625 \nQ 49.859375 40.875 45.40625 35.40625 \nQ 44.1875 33.984375 37.640625 27.21875 \nQ 31.109375 20.453125 19.1875 8.296875 \nz\n\" id=\"DejaVuSans-50\"/>\n      </defs>\n      <g transform=\"translate(76.361513 157.698438)scale(0.1 -0.1)\">\n       <use xlink:href=\"#DejaVuSans-50\"/>\n       <use x=\"63.623047\" xlink:href=\"#DejaVuSans-48\"/>\n       <use x=\"127.246094\" xlink:href=\"#DejaVuSans-48\"/>\n      </g>\n     </g>\n    </g>\n    <g id=\"xtick_3\">\n     <g id=\"line2d_3\">\n      <g>\n       <use style=\"stroke:#000000;stroke-width:0.8;\" x=\"123.283254\" xlink:href=\"#m4deb7d2374\" y=\"143.1\"/>\n      </g>\n     </g>\n     <g id=\"text_3\">\n      <!-- 400 -->\n      <defs>\n       <path d=\"M 37.796875 64.3125 \nL 12.890625 25.390625 \nL 37.796875 25.390625 \nz\nM 35.203125 72.90625 \nL 47.609375 72.90625 \nL 47.609375 25.390625 \nL 58.015625 25.390625 \nL 58.015625 17.1875 \nL 47.609375 17.1875 \nL 47.609375 0 \nL 37.796875 0 \nL 37.796875 17.1875 \nL 4.890625 17.1875 \nL 4.890625 26.703125 \nz\n\" id=\"DejaVuSans-52\"/>\n      </defs>\n      <g transform=\"translate(113.739504 157.698438)scale(0.1 -0.1)\">\n       <use xlink:href=\"#DejaVuSans-52\"/>\n       <use x=\"63.623047\" xlink:href=\"#DejaVuSans-48\"/>\n       <use x=\"127.246094\" xlink:href=\"#DejaVuSans-48\"/>\n      </g>\n     </g>\n    </g>\n    <g id=\"xtick_4\">\n     <g id=\"line2d_4\">\n      <g>\n       <use style=\"stroke:#000000;stroke-width:0.8;\" x=\"160.661244\" xlink:href=\"#m4deb7d2374\" y=\"143.1\"/>\n      </g>\n     </g>\n     <g id=\"text_4\">\n      <!-- 600 -->\n      <defs>\n       <path d=\"M 33.015625 40.375 \nQ 26.375 40.375 22.484375 35.828125 \nQ 18.609375 31.296875 18.609375 23.390625 \nQ 18.609375 15.53125 22.484375 10.953125 \nQ 26.375 6.390625 33.015625 6.390625 \nQ 39.65625 6.390625 43.53125 10.953125 \nQ 47.40625 15.53125 47.40625 23.390625 \nQ 47.40625 31.296875 43.53125 35.828125 \nQ 39.65625 40.375 33.015625 40.375 \nz\nM 52.59375 71.296875 \nL 52.59375 62.3125 \nQ 48.875 64.0625 45.09375 64.984375 \nQ 41.3125 65.921875 37.59375 65.921875 \nQ 27.828125 65.921875 22.671875 59.328125 \nQ 17.53125 52.734375 16.796875 39.40625 \nQ 19.671875 43.65625 24.015625 45.921875 \nQ 28.375 48.1875 33.59375 48.1875 \nQ 44.578125 48.1875 50.953125 41.515625 \nQ 57.328125 34.859375 57.328125 23.390625 \nQ 57.328125 12.15625 50.6875 5.359375 \nQ 44.046875 -1.421875 33.015625 -1.421875 \nQ 20.359375 -1.421875 13.671875 8.265625 \nQ 6.984375 17.96875 6.984375 36.375 \nQ 6.984375 53.65625 15.1875 63.9375 \nQ 23.390625 74.21875 37.203125 74.21875 \nQ 40.921875 74.21875 44.703125 73.484375 \nQ 48.484375 72.75 52.59375 71.296875 \nz\n\" id=\"DejaVuSans-54\"/>\n      </defs>\n      <g transform=\"translate(151.117494 157.698438)scale(0.1 -0.1)\">\n       <use xlink:href=\"#DejaVuSans-54\"/>\n       <use x=\"63.623047\" xlink:href=\"#DejaVuSans-48\"/>\n       <use x=\"127.246094\" xlink:href=\"#DejaVuSans-48\"/>\n      </g>\n     </g>\n    </g>\n    <g id=\"xtick_5\">\n     <g id=\"line2d_5\">\n      <g>\n       <use style=\"stroke:#000000;stroke-width:0.8;\" x=\"198.039234\" xlink:href=\"#m4deb7d2374\" y=\"143.1\"/>\n      </g>\n     </g>\n     <g id=\"text_5\">\n      <!-- 800 -->\n      <defs>\n       <path d=\"M 31.78125 34.625 \nQ 24.75 34.625 20.71875 30.859375 \nQ 16.703125 27.09375 16.703125 20.515625 \nQ 16.703125 13.921875 20.71875 10.15625 \nQ 24.75 6.390625 31.78125 6.390625 \nQ 38.8125 6.390625 42.859375 10.171875 \nQ 46.921875 13.96875 46.921875 20.515625 \nQ 46.921875 27.09375 42.890625 30.859375 \nQ 38.875 34.625 31.78125 34.625 \nz\nM 21.921875 38.8125 \nQ 15.578125 40.375 12.03125 44.71875 \nQ 8.5 49.078125 8.5 55.328125 \nQ 8.5 64.0625 14.71875 69.140625 \nQ 20.953125 74.21875 31.78125 74.21875 \nQ 42.671875 74.21875 48.875 69.140625 \nQ 55.078125 64.0625 55.078125 55.328125 \nQ 55.078125 49.078125 51.53125 44.71875 \nQ 48 40.375 41.703125 38.8125 \nQ 48.828125 37.15625 52.796875 32.3125 \nQ 56.78125 27.484375 56.78125 20.515625 \nQ 56.78125 9.90625 50.3125 4.234375 \nQ 43.84375 -1.421875 31.78125 -1.421875 \nQ 19.734375 -1.421875 13.25 4.234375 \nQ 6.78125 9.90625 6.78125 20.515625 \nQ 6.78125 27.484375 10.78125 32.3125 \nQ 14.796875 37.15625 21.921875 38.8125 \nz\nM 18.3125 54.390625 \nQ 18.3125 48.734375 21.84375 45.5625 \nQ 25.390625 42.390625 31.78125 42.390625 \nQ 38.140625 42.390625 41.71875 45.5625 \nQ 45.3125 48.734375 45.3125 54.390625 \nQ 45.3125 60.0625 41.71875 63.234375 \nQ 38.140625 66.40625 31.78125 66.40625 \nQ 25.390625 66.40625 21.84375 63.234375 \nQ 18.3125 60.0625 18.3125 54.390625 \nz\n\" id=\"DejaVuSans-56\"/>\n      </defs>\n      <g transform=\"translate(188.495484 157.698438)scale(0.1 -0.1)\">\n       <use xlink:href=\"#DejaVuSans-56\"/>\n       <use x=\"63.623047\" xlink:href=\"#DejaVuSans-48\"/>\n       <use x=\"127.246094\" xlink:href=\"#DejaVuSans-48\"/>\n      </g>\n     </g>\n    </g>\n   </g>\n   <g id=\"matplotlib.axis_2\">\n    <g id=\"ytick_1\">\n     <g id=\"line2d_6\">\n      <defs>\n       <path d=\"M 0 0 \nL -3.5 0 \n\" id=\"m58d9d080af\" style=\"stroke:#000000;stroke-width:0.8;\"/>\n      </defs>\n      <g>\n       <use style=\"stroke:#000000;stroke-width:0.8;\" x=\"39.65\" xlink:href=\"#m58d9d080af\" y=\"143.1\"/>\n      </g>\n     </g>\n     <g id=\"text_6\">\n      <!-- 0 -->\n      <g transform=\"translate(26.2875 146.899219)scale(0.1 -0.1)\">\n       <use xlink:href=\"#DejaVuSans-48\"/>\n      </g>\n     </g>\n    </g>\n    <g id=\"ytick_2\">\n     <g id=\"line2d_7\">\n      <g>\n       <use style=\"stroke:#000000;stroke-width:0.8;\" x=\"39.65\" xlink:href=\"#m58d9d080af\" y=\"105.144407\"/>\n      </g>\n     </g>\n     <g id=\"text_7\">\n      <!-- 2000 -->\n      <g transform=\"translate(7.2 108.943626)scale(0.1 -0.1)\">\n       <use xlink:href=\"#DejaVuSans-50\"/>\n       <use x=\"63.623047\" xlink:href=\"#DejaVuSans-48\"/>\n       <use x=\"127.246094\" xlink:href=\"#DejaVuSans-48\"/>\n       <use x=\"190.869141\" xlink:href=\"#DejaVuSans-48\"/>\n      </g>\n     </g>\n    </g>\n    <g id=\"ytick_3\">\n     <g id=\"line2d_8\">\n      <g>\n       <use style=\"stroke:#000000;stroke-width:0.8;\" x=\"39.65\" xlink:href=\"#m58d9d080af\" y=\"67.188814\"/>\n      </g>\n     </g>\n     <g id=\"text_8\">\n      <!-- 4000 -->\n      <g transform=\"translate(7.2 70.988033)scale(0.1 -0.1)\">\n       <use xlink:href=\"#DejaVuSans-52\"/>\n       <use x=\"63.623047\" xlink:href=\"#DejaVuSans-48\"/>\n       <use x=\"127.246094\" xlink:href=\"#DejaVuSans-48\"/>\n       <use x=\"190.869141\" xlink:href=\"#DejaVuSans-48\"/>\n      </g>\n     </g>\n    </g>\n    <g id=\"ytick_4\">\n     <g id=\"line2d_9\">\n      <g>\n       <use style=\"stroke:#000000;stroke-width:0.8;\" x=\"39.65\" xlink:href=\"#m58d9d080af\" y=\"29.233222\"/>\n      </g>\n     </g>\n     <g id=\"text_9\">\n      <!-- 6000 -->\n      <g transform=\"translate(7.2 33.03244)scale(0.1 -0.1)\">\n       <use xlink:href=\"#DejaVuSans-54\"/>\n       <use x=\"63.623047\" xlink:href=\"#DejaVuSans-48\"/>\n       <use x=\"127.246094\" xlink:href=\"#DejaVuSans-48\"/>\n       <use x=\"190.869141\" xlink:href=\"#DejaVuSans-48\"/>\n      </g>\n     </g>\n    </g>\n   </g>\n   <g id=\"patch_22\">\n    <path d=\"M 39.65 143.1 \nL 39.65 7.2 \n\" style=\"fill:none;stroke:#000000;stroke-linecap:square;stroke-linejoin:miter;stroke-width:0.8;\"/>\n   </g>\n   <g id=\"patch_23\">\n    <path d=\"M 234.95 143.1 \nL 234.95 7.2 \n\" style=\"fill:none;stroke:#000000;stroke-linecap:square;stroke-linejoin:miter;stroke-width:0.8;\"/>\n   </g>\n   <g id=\"patch_24\">\n    <path d=\"M 39.65 143.1 \nL 234.95 143.1 \n\" style=\"fill:none;stroke:#000000;stroke-linecap:square;stroke-linejoin:miter;stroke-width:0.8;\"/>\n   </g>\n   <g id=\"patch_25\">\n    <path d=\"M 39.65 7.2 \nL 234.95 7.2 \n\" style=\"fill:none;stroke:#000000;stroke-linecap:square;stroke-linejoin:miter;stroke-width:0.8;\"/>\n   </g>\n  </g>\n </g>\n <defs>\n  <clipPath id=\"p1de2f2b09e\">\n   <rect height=\"135.9\" width=\"195.3\" x=\"39.65\" y=\"7.2\"/>\n  </clipPath>\n </defs>\n</svg>\n",
            "text/plain": [
              "<Figure size 252x180 with 1 Axes>"
            ]
          },
          "metadata": {
            "tags": [],
            "needs_background": "light"
          }
        }
      ]
    },
    {
      "cell_type": "markdown",
      "metadata": {
        "origin_pos": 8,
        "id": "Ovhn0v0WlP7K"
      },
      "source": [
        "### Padding to the Same Length\n",
        "\n",
        "Because the reviews have different lengths, so they cannot be directly combined into minibatches. Here we fix the length of each comment to 500 by truncating or adding \"&lt;unk&gt;\" indices.\n"
      ]
    },
    {
      "cell_type": "code",
      "metadata": {
        "attributes": {
          "classes": [],
          "id": "",
          "n": "5"
        },
        "origin_pos": 9,
        "tab": [
          "mxnet"
        ],
        "id": "RwMuSVHelP7K",
        "outputId": "80600a19-2ed0-489a-ca64-a2b247951945"
      },
      "source": [
        "num_steps = 500  # sequence length\n",
        "train_features = np.array([d2l.truncate_pad(\n",
        "    vocab[line], num_steps, vocab['<pad>']) for line in train_tokens])\n",
        "train_features.shape"
      ],
      "execution_count": null,
      "outputs": [
        {
          "output_type": "execute_result",
          "data": {
            "text/plain": [
              "(25000, 500)"
            ]
          },
          "metadata": {
            "tags": []
          },
          "execution_count": 5
        }
      ]
    },
    {
      "cell_type": "markdown",
      "metadata": {
        "origin_pos": 10,
        "id": "lqn-0oLJlP7K"
      },
      "source": [
        "### Creating the Data Iterator\n",
        "\n",
        "Now, we will create a data iterator. Each iteration will return a minibatch of data.\n"
      ]
    },
    {
      "cell_type": "code",
      "metadata": {
        "attributes": {
          "classes": [],
          "id": "",
          "n": "6"
        },
        "origin_pos": 11,
        "tab": [
          "mxnet"
        ],
        "id": "kF4EswbclP7K",
        "outputId": "9e82fad0-d244-4e9f-f340-8e0a27f53ade"
      },
      "source": [
        "train_iter = d2l.load_array((train_features, train_data[1]), 64)\n",
        "\n",
        "for X, y in train_iter:\n",
        "    print('X', X.shape, 'y', y.shape)\n",
        "    break\n",
        "'# batches:', len(train_iter)"
      ],
      "execution_count": null,
      "outputs": [
        {
          "output_type": "stream",
          "text": [
            "X (64, 500) y (64,)\n"
          ],
          "name": "stdout"
        },
        {
          "output_type": "execute_result",
          "data": {
            "text/plain": [
              "('# batches:', 391)"
            ]
          },
          "metadata": {
            "tags": []
          },
          "execution_count": 6
        }
      ]
    },
    {
      "cell_type": "markdown",
      "metadata": {
        "origin_pos": 12,
        "id": "xariykDIlP7K"
      },
      "source": [
        "## Putting All Things Together\n",
        "\n",
        "Last, we will save a function `load_data_imdb` into `d2l`, which returns the vocabulary and data iterators.\n"
      ]
    },
    {
      "cell_type": "code",
      "metadata": {
        "attributes": {
          "classes": [],
          "id": "",
          "n": "7"
        },
        "origin_pos": 13,
        "tab": [
          "mxnet"
        ],
        "id": "sGTaUpdSlP7K"
      },
      "source": [
        "#@save\n",
        "def load_data_imdb(batch_size, num_steps=500):\n",
        "    data_dir = d2l.download_extract('Arts.txt', 'Arts.txt')\n",
        "    train_data = read_imdb(data_dir, True)\n",
        "    test_data = read_imdb(data_dir, False)\n",
        "    train_tokens = d2l.tokenize(train_data[0], token='word')\n",
        "    test_tokens = d2l.tokenize(test_data[0], token='word')\n",
        "    vocab = d2l.Vocab(train_tokens, min_freq=5)\n",
        "    train_features = np.array([d2l.truncate_pad(\n",
        "        vocab[line], num_steps, vocab['<pad>']) for line in train_tokens])\n",
        "    test_features = np.array([d2l.truncate_pad(\n",
        "        vocab[line], num_steps, vocab['<pad>']) for line in test_tokens])\n",
        "    train_iter = d2l.load_array((train_features, train_data[1]), batch_size)\n",
        "    test_iter = d2l.load_array((test_features, test_data[1]), batch_size,\n",
        "                               is_train=False)\n",
        "    return train_iter, test_iter, vocab"
      ],
      "execution_count": null,
      "outputs": []
    },
    {
      "cell_type": "markdown",
      "metadata": {
        "origin_pos": 14,
        "id": "k3oJMYhElP7K"
      },
      "source": [
        "## Summary\n",
        "\n",
        "* Text classification can classify a text sequence into a category.\n",
        "* To classify a text sentiment, we load an IMDb dataset and tokenize its words. Then we pad the text sequence for short reviews and create a data iterator.\n",
        "\n",
        "## Exercises\n",
        "\n",
        "1. Discover a different natural language dataset (such as [Amazon reviews](https://snap.stanford.edu/data/web-Amazon.html)) and build a similar data_loader function as `load_data_imdb`.\n"
      ]
    },
    {
      "cell_type": "markdown",
      "metadata": {
        "origin_pos": 15,
        "tab": [
          "mxnet"
        ],
        "id": "7xgXFFhblP7K"
      },
      "source": [
        "[Discussions](https://discuss.d2l.ai/t/391)\n"
      ]
    }
  ]
}
